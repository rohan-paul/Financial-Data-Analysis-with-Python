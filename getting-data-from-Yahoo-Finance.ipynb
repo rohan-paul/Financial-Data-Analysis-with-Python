{
 "cells": [
  {
   "cell_type": "code",
   "execution_count": 1,
   "metadata": {
    "collapsed": true
   },
   "outputs": [
    {
     "data": {
      "text/plain": "                 Open       High        Low      Close  Adj Close     Volume\nDate                                                                        \n2019-12-31  72.482498  73.419998  72.379997  73.412498  72.783936  100805600\n2020-01-02  74.059998  75.150002  73.797501  75.087502  74.444603  135480400\n2020-01-03  74.287498  75.144997  74.125000  74.357498  73.720840  146322800\n2020-01-06  73.447502  74.989998  73.187500  74.949997  74.308266  118387200\n2020-01-07  74.959999  75.224998  74.370003  74.597504  73.958794  108872000",
      "text/html": "<div>\n<style scoped>\n    .dataframe tbody tr th:only-of-type {\n        vertical-align: middle;\n    }\n\n    .dataframe tbody tr th {\n        vertical-align: top;\n    }\n\n    .dataframe thead th {\n        text-align: right;\n    }\n</style>\n<table border=\"1\" class=\"dataframe\">\n  <thead>\n    <tr style=\"text-align: right;\">\n      <th></th>\n      <th>Open</th>\n      <th>High</th>\n      <th>Low</th>\n      <th>Close</th>\n      <th>Adj Close</th>\n      <th>Volume</th>\n    </tr>\n    <tr>\n      <th>Date</th>\n      <th></th>\n      <th></th>\n      <th></th>\n      <th></th>\n      <th></th>\n      <th></th>\n    </tr>\n  </thead>\n  <tbody>\n    <tr>\n      <th>2019-12-31</th>\n      <td>72.482498</td>\n      <td>73.419998</td>\n      <td>72.379997</td>\n      <td>73.412498</td>\n      <td>72.783936</td>\n      <td>100805600</td>\n    </tr>\n    <tr>\n      <th>2020-01-02</th>\n      <td>74.059998</td>\n      <td>75.150002</td>\n      <td>73.797501</td>\n      <td>75.087502</td>\n      <td>74.444603</td>\n      <td>135480400</td>\n    </tr>\n    <tr>\n      <th>2020-01-03</th>\n      <td>74.287498</td>\n      <td>75.144997</td>\n      <td>74.125000</td>\n      <td>74.357498</td>\n      <td>73.720840</td>\n      <td>146322800</td>\n    </tr>\n    <tr>\n      <th>2020-01-06</th>\n      <td>73.447502</td>\n      <td>74.989998</td>\n      <td>73.187500</td>\n      <td>74.949997</td>\n      <td>74.308266</td>\n      <td>118387200</td>\n    </tr>\n    <tr>\n      <th>2020-01-07</th>\n      <td>74.959999</td>\n      <td>75.224998</td>\n      <td>74.370003</td>\n      <td>74.597504</td>\n      <td>73.958794</td>\n      <td>108872000</td>\n    </tr>\n  </tbody>\n</table>\n</div>"
     },
     "execution_count": 1,
     "metadata": {},
     "output_type": "execute_result"
    }
   ],
   "source": [
    "\n",
    "import pandas as pd\n",
    "import yfinance as yf\n",
    "\n",
    "df_yahoo =  yf.download('AAPL',\n",
    "start='2020-01-01',\n",
    "end='2020-06-30',\n",
    "progress=False)\n",
    "\n",
    "df_yahoo.head()"
   ]
  }
 ],
 "metadata": {
  "kernelspec": {
   "display_name": "Python 3",
   "language": "python",
   "name": "python3"
  },
  "language_info": {
   "codemirror_mode": {
    "name": "ipython",
    "version": 2
   },
   "file_extension": ".py",
   "mimetype": "text/x-python",
   "name": "python",
   "nbconvert_exporter": "python",
   "pygments_lexer": "ipython2",
   "version": "2.7.6"
  }
 },
 "nbformat": 4,
 "nbformat_minor": 0
}